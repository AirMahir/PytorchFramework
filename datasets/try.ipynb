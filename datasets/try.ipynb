{
 "cells": [
  {
   "cell_type": "code",
   "execution_count": null,
   "id": "e2e26ed8",
   "metadata": {
    "vscode": {
     "languageId": "plaintext"
    }
   },
   "outputs": [],
   "source": [
    "import os\n",
    "import cv2\n",
    "import torch\n",
    "import pathlib\n",
    "import pandas as pd\n",
    "import numpy as np\n",
    "from typing import Dict, Tuple, List\n",
    "from torch.utils.data import Dataset\n",
    "\n",
    "class ClassificationDataset(Dataset):\n",
    "    def __init__(self, image_dir: str, csv_path: str, transform=None, is_inference: bool=False, logger=None):\n",
    "        self.image_dir = image_dir\n",
    "        self.transform = transform\n",
    "        self.logger = logger\n",
    "        self.is_inference = is_inference\n",
    "\n",
    "        if not is_inference:\n",
    "            self.data = pd.read_csv(csv_path)\n",
    "            assert 'Image-Name' in self.data.columns and 'Label' in self.data.columns\n",
    "            assert self.data['Label'].isna().sum() == 0\n",
    "            self.paths = self.data['Image-Name'].tolist()\n",
    "\n",
    "            if self.logger:\n",
    "                self.logger.info(f\"Loaded {len(self.paths)} labeled images from {image_dir}\")\n",
    "                self.logger.info(f\"Label distribution: {self.data['Label'].value_counts().to_dict()}\")\n",
    "        else:\n",
    "            self.paths = list(pathlib.Path(image_dir).glob(\"*.png\"))\n",
    "            if self.logger:\n",
    "                self.logger.info(f\"Loaded {len(self.paths)} images for inference from {image_dir}\")\n",
    "\n",
    "    def __len__(self):\n",
    "        return len(self.paths)\n",
    "\n",
    "    def __getitem__(self, index):\n",
    "        if self.is_inference:\n",
    "            image_path = self.paths[index]\n",
    "        else:\n",
    "            img_name = str(self.paths[index])\n",
    "            image_path = os.path.join(self.image_dir, img_name)\n",
    "            label = self.data.iloc[index]['Label']\n",
    "\n",
    "        image = cv2.imread(str(image_path))\n",
    "        if image is None:\n",
    "            raise FileNotFoundError(f\"Image not found at path: {image_path}\")\n",
    "        image = cv2.cvtColor(image, cv2.COLOR_BGR2RGB)\n",
    "\n",
    "        if self.transform:\n",
    "            image = self.transform(image=image)['image']\n",
    "\n",
    "        if self.is_inference:\n",
    "            return image\n",
    "        else:\n",
    "            # print(image.shape, label)\n",
    "            return image, torch.tensor(label, dtype=torch.long)\n"
   ]
  },
  {
   "cell_type": "code",
   "execution_count": null,
   "id": "c0516779",
   "metadata": {
    "vscode": {
     "languageId": "plaintext"
    }
   },
   "outputs": [],
   "source": []
  }
 ],
 "metadata": {
  "language_info": {
   "name": "python"
  }
 },
 "nbformat": 4,
 "nbformat_minor": 5
}
